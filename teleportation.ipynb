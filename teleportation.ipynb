{
 "cells": [
  {
   "cell_type": "markdown",
   "source": [
    "# Quantum Teleportation - example\n",
    "\n",
    "## Installing packages:"
   ],
   "metadata": {
    "collapsed": false
   }
  },
  {
   "cell_type": "code",
   "execution_count": 7,
   "outputs": [
    {
     "name": "stdout",
     "output_type": "stream",
     "text": [
      "Requirement already satisfied: pylatexenc in /Users/iftachyakar/opt/miniconda3/envs/teleportation/lib/python3.10/site-packages (2.10)\r\n",
      "Requirement already satisfied: qiskit in /Users/iftachyakar/opt/miniconda3/envs/teleportation/lib/python3.10/site-packages (1.1.1)\r\n",
      "Requirement already satisfied: rustworkx>=0.14.0 in /Users/iftachyakar/opt/miniconda3/envs/teleportation/lib/python3.10/site-packages (from qiskit) (0.15.1)\r\n",
      "Requirement already satisfied: numpy<3,>=1.17 in /Users/iftachyakar/opt/miniconda3/envs/teleportation/lib/python3.10/site-packages (from qiskit) (2.0.1)\r\n",
      "Requirement already satisfied: scipy>=1.5 in /Users/iftachyakar/opt/miniconda3/envs/teleportation/lib/python3.10/site-packages (from qiskit) (1.14.0)\r\n",
      "Requirement already satisfied: sympy>=1.3 in /Users/iftachyakar/opt/miniconda3/envs/teleportation/lib/python3.10/site-packages (from qiskit) (1.13.1)\r\n",
      "Requirement already satisfied: dill>=0.3 in /Users/iftachyakar/opt/miniconda3/envs/teleportation/lib/python3.10/site-packages (from qiskit) (0.3.8)\r\n",
      "Requirement already satisfied: python-dateutil>=2.8.0 in /Users/iftachyakar/opt/miniconda3/envs/teleportation/lib/python3.10/site-packages (from qiskit) (2.9.0.post0)\r\n",
      "Requirement already satisfied: stevedore>=3.0.0 in /Users/iftachyakar/opt/miniconda3/envs/teleportation/lib/python3.10/site-packages (from qiskit) (5.2.0)\r\n",
      "Requirement already satisfied: typing-extensions in /Users/iftachyakar/opt/miniconda3/envs/teleportation/lib/python3.10/site-packages (from qiskit) (4.11.0)\r\n",
      "Requirement already satisfied: symengine>=0.11 in /Users/iftachyakar/opt/miniconda3/envs/teleportation/lib/python3.10/site-packages (from qiskit) (0.11.0)\r\n",
      "Requirement already satisfied: six>=1.5 in /Users/iftachyakar/opt/miniconda3/envs/teleportation/lib/python3.10/site-packages (from python-dateutil>=2.8.0->qiskit) (1.16.0)\r\n",
      "Requirement already satisfied: pbr!=2.1.0,>=2.0.0 in /Users/iftachyakar/opt/miniconda3/envs/teleportation/lib/python3.10/site-packages (from stevedore>=3.0.0->qiskit) (6.0.0)\r\n",
      "Requirement already satisfied: mpmath<1.4,>=1.1.0 in /Users/iftachyakar/opt/miniconda3/envs/teleportation/lib/python3.10/site-packages (from sympy>=1.3->qiskit) (1.3.0)\r\n",
      "Requirement already satisfied: qiskit_aer in /Users/iftachyakar/opt/miniconda3/envs/teleportation/lib/python3.10/site-packages (0.14.2)\r\n",
      "Requirement already satisfied: qiskit>=0.45.2 in /Users/iftachyakar/opt/miniconda3/envs/teleportation/lib/python3.10/site-packages (from qiskit_aer) (1.1.1)\r\n",
      "Requirement already satisfied: numpy>=1.16.3 in /Users/iftachyakar/opt/miniconda3/envs/teleportation/lib/python3.10/site-packages (from qiskit_aer) (2.0.1)\r\n",
      "Requirement already satisfied: scipy>=1.0 in /Users/iftachyakar/opt/miniconda3/envs/teleportation/lib/python3.10/site-packages (from qiskit_aer) (1.14.0)\r\n",
      "Requirement already satisfied: psutil>=5 in /Users/iftachyakar/opt/miniconda3/envs/teleportation/lib/python3.10/site-packages (from qiskit_aer) (5.9.0)\r\n",
      "Requirement already satisfied: rustworkx>=0.14.0 in /Users/iftachyakar/opt/miniconda3/envs/teleportation/lib/python3.10/site-packages (from qiskit>=0.45.2->qiskit_aer) (0.15.1)\r\n",
      "Requirement already satisfied: sympy>=1.3 in /Users/iftachyakar/opt/miniconda3/envs/teleportation/lib/python3.10/site-packages (from qiskit>=0.45.2->qiskit_aer) (1.13.1)\r\n",
      "Requirement already satisfied: dill>=0.3 in /Users/iftachyakar/opt/miniconda3/envs/teleportation/lib/python3.10/site-packages (from qiskit>=0.45.2->qiskit_aer) (0.3.8)\r\n",
      "Requirement already satisfied: python-dateutil>=2.8.0 in /Users/iftachyakar/opt/miniconda3/envs/teleportation/lib/python3.10/site-packages (from qiskit>=0.45.2->qiskit_aer) (2.9.0.post0)\r\n",
      "Requirement already satisfied: stevedore>=3.0.0 in /Users/iftachyakar/opt/miniconda3/envs/teleportation/lib/python3.10/site-packages (from qiskit>=0.45.2->qiskit_aer) (5.2.0)\r\n",
      "Requirement already satisfied: typing-extensions in /Users/iftachyakar/opt/miniconda3/envs/teleportation/lib/python3.10/site-packages (from qiskit>=0.45.2->qiskit_aer) (4.11.0)\r\n",
      "Requirement already satisfied: symengine>=0.11 in /Users/iftachyakar/opt/miniconda3/envs/teleportation/lib/python3.10/site-packages (from qiskit>=0.45.2->qiskit_aer) (0.11.0)\r\n",
      "Requirement already satisfied: six>=1.5 in /Users/iftachyakar/opt/miniconda3/envs/teleportation/lib/python3.10/site-packages (from python-dateutil>=2.8.0->qiskit>=0.45.2->qiskit_aer) (1.16.0)\r\n",
      "Requirement already satisfied: pbr!=2.1.0,>=2.0.0 in /Users/iftachyakar/opt/miniconda3/envs/teleportation/lib/python3.10/site-packages (from stevedore>=3.0.0->qiskit>=0.45.2->qiskit_aer) (6.0.0)\r\n",
      "Requirement already satisfied: mpmath<1.4,>=1.1.0 in /Users/iftachyakar/opt/miniconda3/envs/teleportation/lib/python3.10/site-packages (from sympy>=1.3->qiskit>=0.45.2->qiskit_aer) (1.3.0)\r\n",
      "Requirement already satisfied: matplotlib in /Users/iftachyakar/opt/miniconda3/envs/teleportation/lib/python3.10/site-packages (3.9.1)\r\n",
      "Requirement already satisfied: contourpy>=1.0.1 in /Users/iftachyakar/opt/miniconda3/envs/teleportation/lib/python3.10/site-packages (from matplotlib) (1.2.1)\r\n",
      "Requirement already satisfied: cycler>=0.10 in /Users/iftachyakar/opt/miniconda3/envs/teleportation/lib/python3.10/site-packages (from matplotlib) (0.12.1)\r\n",
      "Requirement already satisfied: fonttools>=4.22.0 in /Users/iftachyakar/opt/miniconda3/envs/teleportation/lib/python3.10/site-packages (from matplotlib) (4.53.1)\r\n",
      "Requirement already satisfied: kiwisolver>=1.3.1 in /Users/iftachyakar/opt/miniconda3/envs/teleportation/lib/python3.10/site-packages (from matplotlib) (1.4.5)\r\n",
      "Requirement already satisfied: numpy>=1.23 in /Users/iftachyakar/opt/miniconda3/envs/teleportation/lib/python3.10/site-packages (from matplotlib) (2.0.1)\r\n",
      "Requirement already satisfied: packaging>=20.0 in /Users/iftachyakar/opt/miniconda3/envs/teleportation/lib/python3.10/site-packages (from matplotlib) (24.1)\r\n",
      "Requirement already satisfied: pillow>=8 in /Users/iftachyakar/opt/miniconda3/envs/teleportation/lib/python3.10/site-packages (from matplotlib) (10.4.0)\r\n",
      "Requirement already satisfied: pyparsing>=2.3.1 in /Users/iftachyakar/opt/miniconda3/envs/teleportation/lib/python3.10/site-packages (from matplotlib) (3.1.2)\r\n",
      "Requirement already satisfied: python-dateutil>=2.7 in /Users/iftachyakar/opt/miniconda3/envs/teleportation/lib/python3.10/site-packages (from matplotlib) (2.9.0.post0)\r\n",
      "Requirement already satisfied: six>=1.5 in /Users/iftachyakar/opt/miniconda3/envs/teleportation/lib/python3.10/site-packages (from python-dateutil>=2.7->matplotlib) (1.16.0)\r\n"
     ]
    }
   ],
   "source": [
    "! pip install pylatexenc\n",
    "! pip install qiskit\n",
    "! pip install qiskit_aer\n",
    "! pip install matplotlib"
   ],
   "metadata": {
    "collapsed": false,
    "ExecuteTime": {
     "start_time": "2024-08-08T14:34:39.433570Z",
     "end_time": "2024-08-08T14:34:46.243324Z"
    }
   }
  },
  {
   "cell_type": "code",
   "execution_count": 1,
   "outputs": [],
   "source": [
    "%matplotlib inline"
   ],
   "metadata": {
    "collapsed": false,
    "ExecuteTime": {
     "start_time": "2024-09-18T22:14:07.700155Z",
     "end_time": "2024-09-18T22:14:13.886885Z"
    }
   }
  },
  {
   "cell_type": "code",
   "execution_count": 2,
   "outputs": [],
   "source": [
    "from qiskit import QuantumCircuit, transpile\n",
    "from qiskit.visualization import plot_histogram\n",
    "from qiskit.quantum_info import Statevector\n",
    "from qiskit_aer import Aer\n",
    "import matplotlib.pyplot as plt\n",
    "import numpy as np"
   ],
   "metadata": {
    "collapsed": false,
    "ExecuteTime": {
     "start_time": "2024-09-18T22:14:16.113771Z",
     "end_time": "2024-09-18T22:14:19.306084Z"
    }
   }
  },
  {
   "cell_type": "markdown",
   "source": [
    "## Warm up - generating Bell states - start with $|\\phi^+\\rangle$ state\n"
   ],
   "metadata": {
    "collapsed": false
   }
  },
  {
   "cell_type": "code",
   "execution_count": 46,
   "outputs": [
    {
     "data": {
      "text/plain": "<Figure size 287.294x200.667 with 1 Axes>",
      "image/png": "[encoded data removed]"
     },
     "execution_count": 46,
     "metadata": {},
     "output_type": "execute_result"
    }
   ],
   "source": [
    "# Step 1: Create the quantum circuit\n",
    "qc = QuantumCircuit(2, 0) # 2 qubits, 0 classical bits (no measurements now)\n",
    "\n",
    "qc.h(0)\n",
    "qc.cx(0,1)\n",
    "\n",
    "# Visualize the circuit\n",
    "qc.draw('mpl')"
   ],
   "metadata": {
    "collapsed": false
   }
  },
  {
   "cell_type": "markdown",
   "source": [
    "### State vector simulation"
   ],
   "metadata": {
    "collapsed": false
   }
  },
  {
   "cell_type": "code",
   "execution_count": 47,
   "outputs": [
    {
     "data": {
      "text/plain": "<IPython.core.display.Latex object>",
      "text/latex": "$$\\frac{\\sqrt{2}}{2} |00\\rangle+\\frac{\\sqrt{2}}{2} |11\\rangle$$"
     },
     "execution_count": 47,
     "metadata": {},
     "output_type": "execute_result"
    }
   ],
   "source": [
    "# Step 7: Simulate the circuit\n",
    "backend = Aer.get_backend('statevector_simulator')\n",
    "\n",
    "compiled_qc = transpile(qc, backend)\n",
    "result = backend.run(compiled_qc, shots=1).result()\n",
    "\n",
    "output_state = Statevector(result.get_statevector(qc))\n",
    "output_state.draw(\"latex\")"
   ],
   "metadata": {
    "collapsed": false
   }
  },
  {
   "cell_type": "markdown",
   "source": [
    "### Generating the other Bell states:"
   ],
   "metadata": {
    "collapsed": false
   }
  },
  {
   "cell_type": "code",
   "execution_count": 94,
   "outputs": [
    {
     "data": {
      "text/plain": "<Figure size 370.906x200.667 with 1 Axes>",
      "image/png": "[encoded data removed]"
     },
     "execution_count": 94,
     "metadata": {},
     "output_type": "execute_result"
    }
   ],
   "source": [
    "# Step 1: Create the quantum circuit\n",
    "qc = QuantumCircuit(2, 0) # 2 qubits, 0 classical bits (no measurements now)\n",
    "\n",
    "qc.initialize(\"01\") # Initialize qubits\n",
    "qc.h(0)\n",
    "qc.cx(0,1)\n",
    "\n",
    "# Can show the reverse:\n",
    "# qc.cx(0,1)\n",
    "# qc.h(0)\n",
    "\n",
    "# Visualize the circuit\n",
    "qc.draw('mpl')"
   ],
   "metadata": {
    "collapsed": false,
    "ExecuteTime": {
     "start_time": "2024-09-18T22:54:24.448765Z",
     "end_time": "2024-09-18T22:54:24.547813Z"
    }
   }
  },
  {
   "cell_type": "code",
   "execution_count": 95,
   "outputs": [
    {
     "data": {
      "text/plain": "<IPython.core.display.Latex object>",
      "text/latex": "$$\\frac{\\sqrt{2}}{2} |00\\rangle- \\frac{\\sqrt{2}}{2} |11\\rangle$$"
     },
     "execution_count": 95,
     "metadata": {},
     "output_type": "execute_result"
    }
   ],
   "source": [
    "# Step 7: Simulate the circuit\n",
    "backend = Aer.get_backend('statevector_simulator')\n",
    "\n",
    "compiled_qc = transpile(qc, backend)\n",
    "result = backend.run(compiled_qc, shots=1).result()\n",
    "\n",
    "output_state = Statevector(result.get_statevector(qc))\n",
    "output_state.draw(\"latex\")"
   ],
   "metadata": {
    "collapsed": false,
    "ExecuteTime": {
     "start_time": "2024-09-18T22:54:27.312981Z",
     "end_time": "2024-09-18T22:54:27.342337Z"
    }
   }
  },
  {
   "cell_type": "markdown",
   "source": [
    "## Setting up our teleportation circuit"
   ],
   "metadata": {
    "collapsed": false
   }
  },
  {
   "cell_type": "code",
   "execution_count": 96,
   "outputs": [
    {
     "data": {
      "text/plain": "<qiskit.circuit.instructionset.InstructionSet at 0x7f9671eec400>"
     },
     "execution_count": 96,
     "metadata": {},
     "output_type": "execute_result"
    }
   ],
   "source": [
    "# Step 1: Create the quantum circuit\n",
    "qc = QuantumCircuit(3, 3)\n",
    "\n",
    "# Step 2: Initialize the state to be teleported\n",
    "input_state = [0.6, 0.8]  # Example state |ψ> = 0.6|0> + 0.8|1>\n",
    "qc.initialize(input_state, 0)\n",
    "\n",
    "# Step 3: Create the entanglement between qubit 1 and qubit 2\n",
    "qc.h(1)\n",
    "qc.cx(1, 2)\n",
    "\n",
    "qc.barrier()\n",
    "\n",
    "# Step 4: Bell measurement on qubit 0 and qubit 1\n",
    "qc.cx(0, 1)\n",
    "qc.h(0)\n",
    "qc.barrier()\n",
    "\n",
    "# Step 5: Measure qubits 0 and 1\n",
    "qc.measure(0, 0)\n",
    "qc.measure(1, 1)\n",
    "\n",
    "# Step 6: Apply corrections based on the measurement results\n",
    "qc.cx(1, 2)\n",
    "qc.cz(0, 2)\n",
    "\n",
    "qc.measure(2, 2)"
   ],
   "metadata": {
    "collapsed": false,
    "ExecuteTime": {
     "start_time": "2024-09-18T22:55:03.471814Z",
     "end_time": "2024-09-18T22:55:03.476719Z"
    }
   }
  },
  {
   "cell_type": "markdown",
   "source": [
    "### Drawing the circuit"
   ],
   "metadata": {
    "collapsed": false
   }
  },
  {
   "cell_type": "code",
   "execution_count": 97,
   "outputs": [
    {
     "data": {
      "text/plain": "<Figure size 1040x367.889 with 1 Axes>",
      "image/png": "[encoded data removed]"
     },
     "execution_count": 97,
     "metadata": {},
     "output_type": "execute_result"
    }
   ],
   "source": [
    "# Visualize the circuit\n",
    "qc.draw('mpl')"
   ],
   "metadata": {
    "collapsed": false,
    "ExecuteTime": {
     "start_time": "2024-09-18T22:55:11.692617Z",
     "end_time": "2024-09-18T22:55:11.902276Z"
    }
   }
  },
  {
   "cell_type": "markdown",
   "source": [
    "## Simulating the circuit using QASM (Quantum Assembly) simulator"
   ],
   "metadata": {
    "collapsed": false
   }
  },
  {
   "cell_type": "code",
   "execution_count": 106,
   "outputs": [],
   "source": [
    "# Step 7: Simulate the circuit\n",
    "backend_qasm = Aer.get_backend('qasm_simulator')\n",
    "\n",
    "compiled_qc = transpile(qc, backend_qasm)\n",
    "result_qasm = backend_qasm.run(compiled_qc, shots=100).result()\n",
    "# result_qasm = backend_qasm.run(compiled_qc, shots=10000).result() # uncomment for better precision\n",
    "counts = result_qasm.get_counts()"
   ],
   "metadata": {
    "collapsed": false,
    "ExecuteTime": {
     "start_time": "2024-09-18T22:56:13.416344Z",
     "end_time": "2024-09-18T22:56:13.444254Z"
    }
   }
  },
  {
   "cell_type": "markdown",
   "source": [
    "### Plotting the results"
   ],
   "metadata": {
    "collapsed": false
   }
  },
  {
   "cell_type": "code",
   "execution_count": 107,
   "outputs": [
    {
     "name": "stdout",
     "output_type": "stream",
     "text": [
      "Accumulated counts: {'0': 38, '1': 62}\n",
      "Proportions: {'0': 0.38, '1': 0.62}\n"
     ]
    },
    {
     "data": {
      "text/plain": "<Figure size 800x600 with 1 Axes>",
      "image/png": "[encoded data removed]"
     },
     "metadata": {},
     "output_type": "display_data"
    }
   ],
   "source": [
    "# Accumulate counts based on the most significant bit (MSB)\n",
    "accumulated_counts = {'0': 0, '1': 0}\n",
    "for key, value in counts.items():\n",
    "    msb = key[0]  # Get the most significant bit\n",
    "    accumulated_counts[msb] += value\n",
    "\n",
    "# Print the accumulated counts\n",
    "print(\"Accumulated counts:\", accumulated_counts)\n",
    "\n",
    "# Calculate total counts\n",
    "total_counts = sum(accumulated_counts.values())\n",
    "\n",
    "# Convert counts to proportions\n",
    "proportions = {key: value / total_counts for key, value in accumulated_counts.items()}\n",
    "\n",
    "# Print the proportions\n",
    "print(\"Proportions:\", proportions)\n",
    "\n",
    "# Plot the proportions\n",
    "plot_histogram(proportions, figsize=(8, 6))\n",
    "\n",
    "# Set y-axis range from 0 to 1\n",
    "plt.ylim(0, 1)\n",
    "plt.ylabel('Proportion')\n",
    "plt.show()"
   ],
   "metadata": {
    "collapsed": false,
    "ExecuteTime": {
     "start_time": "2024-09-18T22:56:14.309360Z",
     "end_time": "2024-09-18T22:56:14.376051Z"
    }
   }
  },
  {
   "cell_type": "markdown",
   "source": [
    "## Measurement games"
   ],
   "metadata": {
    "collapsed": false
   }
  },
  {
   "cell_type": "code",
   "execution_count": 153,
   "outputs": [
    {
     "data": {
      "text/plain": "<Figure size 269.064x200.667 with 1 Axes>",
      "image/png": "[encoded data removed]"
     },
     "execution_count": 153,
     "metadata": {},
     "output_type": "execute_result"
    }
   ],
   "source": [
    "# Step 1: Create the quantum circuit\n",
    "qc = QuantumCircuit(1, 1)\n",
    "\n",
    "qc.h(0)\n",
    "# qc.measure(0,0)\n",
    "# qc.h(0)\n",
    "\n",
    "qc.measure(0,0)\n",
    "\n",
    "qc.draw('mpl')\n"
   ],
   "metadata": {
    "collapsed": false,
    "ExecuteTime": {
     "start_time": "2024-09-18T23:23:16.727951Z",
     "end_time": "2024-09-18T23:23:16.808337Z"
    }
   }
  },
  {
   "cell_type": "code",
   "execution_count": 154,
   "outputs": [
    {
     "data": {
      "text/plain": "{'0': 505, '1': 495}"
     },
     "execution_count": 154,
     "metadata": {},
     "output_type": "execute_result"
    }
   ],
   "source": [
    "# Step 7: Simulate the circuit\n",
    "backend_qasm = Aer.get_backend('qasm_simulator')\n",
    "\n",
    "compiled_qc = transpile(qc, backend_qasm)\n",
    "result_qasm = backend_qasm.run(compiled_qc, shots=1000).result()\n",
    "counts = result_qasm.get_counts()\n",
    "\n",
    "counts"
   ],
   "metadata": {
    "collapsed": false,
    "ExecuteTime": {
     "start_time": "2024-09-18T23:23:20.484926Z",
     "end_time": "2024-09-18T23:23:20.513460Z"
    }
   }
  },
  {
   "cell_type": "code",
   "execution_count": 157,
   "outputs": [
    {
     "data": {
      "text/plain": "<Figure size 640x480 with 1 Axes>",
      "image/png": "[encoded data removed]"
     },
     "metadata": {},
     "output_type": "display_data"
    }
   ],
   "source": [
    "# Ensure both '0' and '1' are in the data\n",
    "if '0' not in counts:\n",
    "    counts['0'] = 0\n",
    "if '1' not in counts:\n",
    "    counts['1'] = 0\n",
    "\n",
    "# Extract keys and values\n",
    "labels = list(counts.keys())\n",
    "values = list(counts.values())\n",
    "\n",
    "# Create the bar plot\n",
    "plt.bar(labels, values)\n",
    "\n",
    "# Add labels and title\n",
    "plt.xlabel('results')\n",
    "plt.ylabel('counts')\n",
    "plt.title('$q_0$ result counts')\n",
    "\n",
    "# Set y-axis limit from 0 to 100\n",
    "plt.ylim(0, sum(values))\n",
    "\n",
    "# Show the plot\n",
    "plt.show()"
   ],
   "metadata": {
    "collapsed": false,
    "ExecuteTime": {
     "start_time": "2024-09-18T23:24:19.997131Z",
     "end_time": "2024-09-18T23:24:20.076949Z"
    }
   }
  },
  {
   "cell_type": "code",
   "execution_count": null,
   "outputs": [],
   "source": [],
   "metadata": {
    "collapsed": false
   }
  }
 ],
 "metadata": {
  "kernelspec": {
   "display_name": "Python 3",
   "language": "python",
   "name": "python3"
  },
  "language_info": {
   "codemirror_mode": {
    "name": "ipython",
    "version": 2
   },
   "file_extension": ".py",
   "mimetype": "text/x-python",
   "name": "python",
   "nbconvert_exporter": "python",
   "pygments_lexer": "ipython2",
   "version": "2.7.6"
  }
 },
 "nbformat": 4,
 "nbformat_minor": 0
}
